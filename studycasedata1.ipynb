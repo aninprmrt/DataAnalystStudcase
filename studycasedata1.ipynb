{
 "cells": [
  {
   "cell_type": "markdown",
   "metadata": {},
   "source": [
    "### **A. Business Problem**\n",
    "**Problem Statement**\n",
    "Gaming industry is an interesting field to explore, it would be fun knowing who the most popular publishers and developers are and which games are the most popular.\n",
    "\n",
    "Dataset https://docs.google.com/spreadsheets/d/1z46qH9il8OfVkYBZMMDUYq_GYHp77_prgkKq6HysZts/edit#gid=1485085913 \n",
    "\n",
    "**Content Data**\n",
    "- Name: Name of the game\n",
    "- Sales: Sales of the game in Milions\n",
    "- Series: Series of the game\n",
    "- Release: Release date of the game\n",
    "- Genre: Genre of the game\n",
    "- Developer: Developer of the game"
   ]
  },
  {
   "cell_type": "markdown",
   "metadata": {},
   "source": [
    "### **B. Data Preparation & Cleansing**"
   ]
  },
  {
   "cell_type": "markdown",
   "metadata": {},
   "source": [
    "Import Library"
   ]
  },
  {
   "cell_type": "code",
   "execution_count": 23,
   "metadata": {},
   "outputs": [],
   "source": [
    "import pandas as pd                #Library used for working with data sets and perform data analysis\n",
    "import numpy as np                 #To perform mathematical operasion and statistics\n",
    "from datetime import datetime      #Used to work with date and time\n",
    "import matplotlib.pyplot as plt    #Used for data visualization\n",
    "import seaborn as sns              #Used for data visualization"
   ]
  },
  {
   "cell_type": "markdown",
   "metadata": {},
   "source": [
    "Import Dataset"
   ]
  },
  {
   "cell_type": "code",
   "execution_count": 24,
   "metadata": {},
   "outputs": [
    {
     "name": "stdout",
     "output_type": "stream",
     "text": [
      "<bound method DataFrame.info of                                      Name  Sales          Series    Release  \\\n",
      "0           PlayerUnknown's Battlegrounds   42.0             NaN 2017-12-01   \n",
      "1                               Minecraft   33.0       Minecraft 2011-11-01   \n",
      "2                              Diablo III   20.0          Diablo 2012-05-01   \n",
      "3                             Garry's Mod   20.0             NaN 2006-11-01   \n",
      "4                                Terraria   17.2             NaN 2011-05-01   \n",
      "..                                    ...    ...             ...        ...   \n",
      "170                              Vietcong    1.0        Vietcong 2003-03-01   \n",
      "171    Warhammer Online: Age of Reckoning    1.0       Warhammer 2008-09-01   \n",
      "172        Who Wants to Be a Millionaire?    1.0             NaN 1999-11-01   \n",
      "173  Wing Commander 3: Heart of the Tiger    1.0  Wing Commander 1994-12-01   \n",
      "174                            Zoo Tycoon    1.0      Zoo Tycoon 2001-10-01   \n",
      "\n",
      "                       Genre               Developer  \\\n",
      "0              Battle royale            PUBG Studios   \n",
      "1          Sandbox, survival          Mojang Studios   \n",
      "2        Action role-playing  Blizzard Entertainment   \n",
      "3                    Sandbox       Facepunch Studios   \n",
      "4           Action-adventure                Re-Logic   \n",
      "..                       ...                     ...   \n",
      "170         Tactical shooter                Pterodon   \n",
      "171                   MMORPG    Mythic Entertainment   \n",
      "172              Trivia game             Jellyvision   \n",
      "173  Space combat simulation          Origin Systems   \n",
      "174      Business simulation               Microsoft   \n",
      "\n",
      "                      Publisher  \n",
      "0                       Krafton  \n",
      "1                Mojang Studios  \n",
      "2        Blizzard Entertainment  \n",
      "3                         Valve  \n",
      "4                      Re-Logic  \n",
      "..                          ...  \n",
      "170     Gathering of Developers  \n",
      "171             Electronic Arts  \n",
      "172  Disney Interactive Studios  \n",
      "173             Electronic Arts  \n",
      "174             Blue Fang Games  \n",
      "\n",
      "[175 rows x 7 columns]>\n"
     ]
    },
    {
     "data": {
      "text/html": [
       "<div>\n",
       "<style scoped>\n",
       "    .dataframe tbody tr th:only-of-type {\n",
       "        vertical-align: middle;\n",
       "    }\n",
       "\n",
       "    .dataframe tbody tr th {\n",
       "        vertical-align: top;\n",
       "    }\n",
       "\n",
       "    .dataframe thead th {\n",
       "        text-align: right;\n",
       "    }\n",
       "</style>\n",
       "<table border=\"1\" class=\"dataframe\">\n",
       "  <thead>\n",
       "    <tr style=\"text-align: right;\">\n",
       "      <th></th>\n",
       "      <th>Name</th>\n",
       "      <th>Sales</th>\n",
       "      <th>Series</th>\n",
       "      <th>Release</th>\n",
       "      <th>Genre</th>\n",
       "      <th>Developer</th>\n",
       "      <th>Publisher</th>\n",
       "    </tr>\n",
       "  </thead>\n",
       "  <tbody>\n",
       "    <tr>\n",
       "      <th>0</th>\n",
       "      <td>PlayerUnknown's Battlegrounds</td>\n",
       "      <td>42.0</td>\n",
       "      <td>NaN</td>\n",
       "      <td>2017-12-01</td>\n",
       "      <td>Battle royale</td>\n",
       "      <td>PUBG Studios</td>\n",
       "      <td>Krafton</td>\n",
       "    </tr>\n",
       "    <tr>\n",
       "      <th>1</th>\n",
       "      <td>Minecraft</td>\n",
       "      <td>33.0</td>\n",
       "      <td>Minecraft</td>\n",
       "      <td>2011-11-01</td>\n",
       "      <td>Sandbox, survival</td>\n",
       "      <td>Mojang Studios</td>\n",
       "      <td>Mojang Studios</td>\n",
       "    </tr>\n",
       "    <tr>\n",
       "      <th>2</th>\n",
       "      <td>Diablo III</td>\n",
       "      <td>20.0</td>\n",
       "      <td>Diablo</td>\n",
       "      <td>2012-05-01</td>\n",
       "      <td>Action role-playing</td>\n",
       "      <td>Blizzard Entertainment</td>\n",
       "      <td>Blizzard Entertainment</td>\n",
       "    </tr>\n",
       "    <tr>\n",
       "      <th>3</th>\n",
       "      <td>Garry's Mod</td>\n",
       "      <td>20.0</td>\n",
       "      <td>NaN</td>\n",
       "      <td>2006-11-01</td>\n",
       "      <td>Sandbox</td>\n",
       "      <td>Facepunch Studios</td>\n",
       "      <td>Valve</td>\n",
       "    </tr>\n",
       "    <tr>\n",
       "      <th>4</th>\n",
       "      <td>Terraria</td>\n",
       "      <td>17.2</td>\n",
       "      <td>NaN</td>\n",
       "      <td>2011-05-01</td>\n",
       "      <td>Action-adventure</td>\n",
       "      <td>Re-Logic</td>\n",
       "      <td>Re-Logic</td>\n",
       "    </tr>\n",
       "    <tr>\n",
       "      <th>5</th>\n",
       "      <td>World of Warcraft</td>\n",
       "      <td>14.0</td>\n",
       "      <td>Warcraft</td>\n",
       "      <td>2004-11-01</td>\n",
       "      <td>MMORPG</td>\n",
       "      <td>Blizzard Entertainment</td>\n",
       "      <td>Blizzard Entertainment</td>\n",
       "    </tr>\n",
       "    <tr>\n",
       "      <th>6</th>\n",
       "      <td>Half-Life 2</td>\n",
       "      <td>12.0</td>\n",
       "      <td>Half-Life</td>\n",
       "      <td>2004-11-01</td>\n",
       "      <td>First-person shooter</td>\n",
       "      <td>Valve</td>\n",
       "      <td>Valve (digital)</td>\n",
       "    </tr>\n",
       "    <tr>\n",
       "      <th>7</th>\n",
       "      <td>The Witcher 3: Wild Hunt</td>\n",
       "      <td>12.0</td>\n",
       "      <td>The Witcher</td>\n",
       "      <td>2015-05-01</td>\n",
       "      <td>Action role-playing</td>\n",
       "      <td>CD Projekt Red</td>\n",
       "      <td>CD Projekt</td>\n",
       "    </tr>\n",
       "    <tr>\n",
       "      <th>8</th>\n",
       "      <td>StarCraft</td>\n",
       "      <td>11.0</td>\n",
       "      <td>StarCraft</td>\n",
       "      <td>1998-03-01</td>\n",
       "      <td>Real-time strategy</td>\n",
       "      <td>Blizzard Entertainment</td>\n",
       "      <td>Blizzard Entertainment</td>\n",
       "    </tr>\n",
       "    <tr>\n",
       "      <th>9</th>\n",
       "      <td>The Sims</td>\n",
       "      <td>11.0</td>\n",
       "      <td>The Sims</td>\n",
       "      <td>2000-02-01</td>\n",
       "      <td>Life simulation</td>\n",
       "      <td>Maxis</td>\n",
       "      <td>Electronic Arts</td>\n",
       "    </tr>\n",
       "  </tbody>\n",
       "</table>\n",
       "</div>"
      ],
      "text/plain": [
       "                            Name  Sales       Series    Release  \\\n",
       "0  PlayerUnknown's Battlegrounds   42.0          NaN 2017-12-01   \n",
       "1                      Minecraft   33.0    Minecraft 2011-11-01   \n",
       "2                     Diablo III   20.0       Diablo 2012-05-01   \n",
       "3                    Garry's Mod   20.0          NaN 2006-11-01   \n",
       "4                       Terraria   17.2          NaN 2011-05-01   \n",
       "5              World of Warcraft   14.0     Warcraft 2004-11-01   \n",
       "6                    Half-Life 2   12.0    Half-Life 2004-11-01   \n",
       "7       The Witcher 3: Wild Hunt   12.0  The Witcher 2015-05-01   \n",
       "8                      StarCraft   11.0    StarCraft 1998-03-01   \n",
       "9                       The Sims   11.0     The Sims 2000-02-01   \n",
       "\n",
       "                  Genre               Developer               Publisher  \n",
       "0         Battle royale            PUBG Studios                 Krafton  \n",
       "1     Sandbox, survival          Mojang Studios          Mojang Studios  \n",
       "2   Action role-playing  Blizzard Entertainment  Blizzard Entertainment  \n",
       "3               Sandbox       Facepunch Studios                   Valve  \n",
       "4      Action-adventure                Re-Logic                Re-Logic  \n",
       "5                MMORPG  Blizzard Entertainment  Blizzard Entertainment  \n",
       "6  First-person shooter                   Valve         Valve (digital)  \n",
       "7   Action role-playing          CD Projekt Red              CD Projekt  \n",
       "8    Real-time strategy  Blizzard Entertainment  Blizzard Entertainment  \n",
       "9       Life simulation                   Maxis         Electronic Arts  "
      ]
     },
     "execution_count": 24,
     "metadata": {},
     "output_type": "execute_result"
    }
   ],
   "source": [
    "df=pd.read_csv('data.csv')\n",
    "df['Release'] = pd.to_datetime(df['Release']) #Convert the Release column (data string) to datetime\n",
    "df = df.drop_duplicates() #remove duplicated data\n",
    "\n",
    "print(df.info)\n",
    "df.head(10) #Show the first 10 rows of the data"
   ]
  },
  {
   "cell_type": "markdown",
   "metadata": {},
   "source": [
    "### **C. Answer**"
   ]
  },
  {
   "cell_type": "markdown",
   "metadata": {},
   "source": [
    "The Oldest Game"
   ]
  },
  {
   "cell_type": "code",
   "execution_count": 25,
   "metadata": {},
   "outputs": [
    {
     "data": {
      "text/html": [
       "<div>\n",
       "<style scoped>\n",
       "    .dataframe tbody tr th:only-of-type {\n",
       "        vertical-align: middle;\n",
       "    }\n",
       "\n",
       "    .dataframe tbody tr th {\n",
       "        vertical-align: top;\n",
       "    }\n",
       "\n",
       "    .dataframe thead th {\n",
       "        text-align: right;\n",
       "    }\n",
       "</style>\n",
       "<table border=\"1\" class=\"dataframe\">\n",
       "  <thead>\n",
       "    <tr style=\"text-align: right;\">\n",
       "      <th></th>\n",
       "      <th>Name</th>\n",
       "      <th>Release</th>\n",
       "    </tr>\n",
       "  </thead>\n",
       "  <tbody>\n",
       "    <tr>\n",
       "      <th>133</th>\n",
       "      <td>Hydlide</td>\n",
       "      <td>1984-12-01</td>\n",
       "    </tr>\n",
       "    <tr>\n",
       "      <th>34</th>\n",
       "      <td>Where in the World Is Carmen Sandiego?</td>\n",
       "      <td>1985-06-01</td>\n",
       "    </tr>\n",
       "    <tr>\n",
       "      <th>88</th>\n",
       "      <td>International Karate</td>\n",
       "      <td>1985-11-01</td>\n",
       "    </tr>\n",
       "    <tr>\n",
       "      <th>162</th>\n",
       "      <td>Tetris</td>\n",
       "      <td>1988-01-01</td>\n",
       "    </tr>\n",
       "    <tr>\n",
       "      <th>22</th>\n",
       "      <td>Last Ninja 2</td>\n",
       "      <td>1988-08-01</td>\n",
       "    </tr>\n",
       "  </tbody>\n",
       "</table>\n",
       "</div>"
      ],
      "text/plain": [
       "                                       Name    Release\n",
       "133                                 Hydlide 1984-12-01\n",
       "34   Where in the World Is Carmen Sandiego? 1985-06-01\n",
       "88                     International Karate 1985-11-01\n",
       "162                                  Tetris 1988-01-01\n",
       "22                             Last Ninja 2 1988-08-01"
      ]
     },
     "execution_count": 25,
     "metadata": {},
     "output_type": "execute_result"
    }
   ],
   "source": [
    "df[['Name','Release']].sort_values('Release').head() #The oldest game\n",
    "#kalau sort_values biasanya data dari yang terkecil ke terbesar"
   ]
  },
  {
   "cell_type": "markdown",
   "metadata": {},
   "source": [
    "The Newest Game"
   ]
  },
  {
   "cell_type": "code",
   "execution_count": 26,
   "metadata": {},
   "outputs": [
    {
     "data": {
      "text/html": [
       "<div>\n",
       "<style scoped>\n",
       "    .dataframe tbody tr th:only-of-type {\n",
       "        vertical-align: middle;\n",
       "    }\n",
       "\n",
       "    .dataframe tbody tr th {\n",
       "        vertical-align: top;\n",
       "    }\n",
       "\n",
       "    .dataframe thead th {\n",
       "        text-align: right;\n",
       "    }\n",
       "</style>\n",
       "<table border=\"1\" class=\"dataframe\">\n",
       "  <thead>\n",
       "    <tr style=\"text-align: right;\">\n",
       "      <th></th>\n",
       "      <th>Name</th>\n",
       "      <th>Release</th>\n",
       "    </tr>\n",
       "  </thead>\n",
       "  <tbody>\n",
       "    <tr>\n",
       "      <th>20</th>\n",
       "      <td>Valheim</td>\n",
       "      <td>2021-02-01</td>\n",
       "    </tr>\n",
       "    <tr>\n",
       "      <th>27</th>\n",
       "      <td>Cyberpunk 2077</td>\n",
       "      <td>2020-12-01</td>\n",
       "    </tr>\n",
       "    <tr>\n",
       "      <th>110</th>\n",
       "      <td>Crusader Kings III</td>\n",
       "      <td>2020-09-01</td>\n",
       "    </tr>\n",
       "    <tr>\n",
       "      <th>10</th>\n",
       "      <td>Fall Guys</td>\n",
       "      <td>2020-08-01</td>\n",
       "    </tr>\n",
       "    <tr>\n",
       "      <th>139</th>\n",
       "      <td>Mordhau</td>\n",
       "      <td>2019-04-01</td>\n",
       "    </tr>\n",
       "  </tbody>\n",
       "</table>\n",
       "</div>"
      ],
      "text/plain": [
       "                   Name    Release\n",
       "20              Valheim 2021-02-01\n",
       "27       Cyberpunk 2077 2020-12-01\n",
       "110  Crusader Kings III 2020-09-01\n",
       "10            Fall Guys 2020-08-01\n",
       "139             Mordhau 2019-04-01"
      ]
     },
     "execution_count": 26,
     "metadata": {},
     "output_type": "execute_result"
    }
   ],
   "source": [
    "df[['Name','Release']].sort_values('Release', ascending = False).head()\n",
    "# kalau sort values mau dari terbesar ke terkecil tambahkan ascending=False\n"
   ]
  },
  {
   "cell_type": "markdown",
   "metadata": {},
   "source": [
    "Which Publisher Published Most of The Game?"
   ]
  },
  {
   "cell_type": "code",
   "execution_count": 27,
   "metadata": {},
   "outputs": [
    {
     "data": {
      "text/html": [
       "<div>\n",
       "<style scoped>\n",
       "    .dataframe tbody tr th:only-of-type {\n",
       "        vertical-align: middle;\n",
       "    }\n",
       "\n",
       "    .dataframe tbody tr th {\n",
       "        vertical-align: top;\n",
       "    }\n",
       "\n",
       "    .dataframe thead th {\n",
       "        text-align: right;\n",
       "    }\n",
       "</style>\n",
       "<table border=\"1\" class=\"dataframe\">\n",
       "  <thead>\n",
       "    <tr style=\"text-align: right;\">\n",
       "      <th></th>\n",
       "      <th>Publisher</th>\n",
       "      <th>Name</th>\n",
       "    </tr>\n",
       "  </thead>\n",
       "  <tbody>\n",
       "    <tr>\n",
       "      <th>28</th>\n",
       "      <td>Electronic Arts</td>\n",
       "      <td>19</td>\n",
       "    </tr>\n",
       "    <tr>\n",
       "      <th>8</th>\n",
       "      <td>Blizzard Entertainment</td>\n",
       "      <td>8</td>\n",
       "    </tr>\n",
       "    <tr>\n",
       "      <th>62</th>\n",
       "      <td>Paradox Interactive</td>\n",
       "      <td>7</td>\n",
       "    </tr>\n",
       "    <tr>\n",
       "      <th>2</th>\n",
       "      <td>Activision</td>\n",
       "      <td>6</td>\n",
       "    </tr>\n",
       "    <tr>\n",
       "      <th>37</th>\n",
       "      <td>GT Interactive</td>\n",
       "      <td>5</td>\n",
       "    </tr>\n",
       "    <tr>\n",
       "      <th>...</th>\n",
       "      <td>...</td>\n",
       "      <td>...</td>\n",
       "    </tr>\n",
       "    <tr>\n",
       "      <th>36</th>\n",
       "      <td>Frontier Developments</td>\n",
       "      <td>1</td>\n",
       "    </tr>\n",
       "    <tr>\n",
       "      <th>35</th>\n",
       "      <td>Facepunch Studios</td>\n",
       "      <td>1</td>\n",
       "    </tr>\n",
       "    <tr>\n",
       "      <th>34</th>\n",
       "      <td>FX Interactive</td>\n",
       "      <td>1</td>\n",
       "    </tr>\n",
       "    <tr>\n",
       "      <th>33</th>\n",
       "      <td>Epyx</td>\n",
       "      <td>1</td>\n",
       "    </tr>\n",
       "    <tr>\n",
       "      <th>95</th>\n",
       "      <td>id Software</td>\n",
       "      <td>1</td>\n",
       "    </tr>\n",
       "  </tbody>\n",
       "</table>\n",
       "<p>96 rows × 2 columns</p>\n",
       "</div>"
      ],
      "text/plain": [
       "                 Publisher  Name\n",
       "28         Electronic Arts    19\n",
       "8   Blizzard Entertainment     8\n",
       "62     Paradox Interactive     7\n",
       "2               Activision     6\n",
       "37          GT Interactive     5\n",
       "..                     ...   ...\n",
       "36   Frontier Developments     1\n",
       "35       Facepunch Studios     1\n",
       "34          FX Interactive     1\n",
       "33                    Epyx     1\n",
       "95             id Software     1\n",
       "\n",
       "[96 rows x 2 columns]"
      ]
     },
     "execution_count": 27,
     "metadata": {},
     "output_type": "execute_result"
    }
   ],
   "source": [
    "agg_publisher = df.groupby('Publisher', as_index=False)['Name'].nunique() #unique agar tidak ada data yang sama #as_index=False agar index tidak berubah\n",
    "agg_publisher.sort_values('Name', ascending=False) #ascending=False agar data dari terbesar ke terkecil\n",
    "\n",
    "#agg = aggregate"
   ]
  },
  {
   "cell_type": "code",
   "execution_count": 28,
   "metadata": {},
   "outputs": [
    {
     "data": {
      "image/png": "[encoded data removed]",
      "text/plain": [
       "<Figure size 1800x800 with 1 Axes>"
      ]
     },
     "metadata": {},
     "output_type": "display_data"
    }
   ],
   "source": [
    "top_publishers = agg_publisher.sort_values('Name', ascending=False).head(10)\n",
    "plt.rcParams['figure.figsize'] = (18, 8) #ukuran plot\n",
    "sns.barplot(x='Publisher', y='Name', data=top_publishers) #sns.barplot untuk membuat bar plot\n",
    "plt.show() #untuk menampilkan plot"
   ]
  },
  {
   "cell_type": "markdown",
   "metadata": {},
   "source": [
    "Which developer developed most of the games?"
   ]
  },
  {
   "cell_type": "code",
   "execution_count": 29,
   "metadata": {},
   "outputs": [
    {
     "data": {
      "text/html": [
       "<div>\n",
       "<style scoped>\n",
       "    .dataframe tbody tr th:only-of-type {\n",
       "        vertical-align: middle;\n",
       "    }\n",
       "\n",
       "    .dataframe tbody tr th {\n",
       "        vertical-align: top;\n",
       "    }\n",
       "\n",
       "    .dataframe thead th {\n",
       "        text-align: right;\n",
       "    }\n",
       "</style>\n",
       "<table border=\"1\" class=\"dataframe\">\n",
       "  <thead>\n",
       "    <tr style=\"text-align: right;\">\n",
       "      <th></th>\n",
       "      <th>Developer</th>\n",
       "      <th>Name</th>\n",
       "    </tr>\n",
       "  </thead>\n",
       "  <tbody>\n",
       "    <tr>\n",
       "      <th>6</th>\n",
       "      <td>Blizzard Entertainment</td>\n",
       "      <td>8</td>\n",
       "    </tr>\n",
       "    <tr>\n",
       "      <th>60</th>\n",
       "      <td>Maxis</td>\n",
       "      <td>6</td>\n",
       "    </tr>\n",
       "    <tr>\n",
       "      <th>70</th>\n",
       "      <td>Paradox Development Studio</td>\n",
       "      <td>5</td>\n",
       "    </tr>\n",
       "    <tr>\n",
       "      <th>108</th>\n",
       "      <td>id Software</td>\n",
       "      <td>4</td>\n",
       "    </tr>\n",
       "    <tr>\n",
       "      <th>106</th>\n",
       "      <td>Westwood Studios</td>\n",
       "      <td>4</td>\n",
       "    </tr>\n",
       "    <tr>\n",
       "      <th>...</th>\n",
       "      <td>...</td>\n",
       "      <td>...</td>\n",
       "    </tr>\n",
       "    <tr>\n",
       "      <th>48</th>\n",
       "      <td>Introversion Software</td>\n",
       "      <td>1</td>\n",
       "    </tr>\n",
       "    <tr>\n",
       "      <th>47</th>\n",
       "      <td>Infocom</td>\n",
       "      <td>1</td>\n",
       "    </tr>\n",
       "    <tr>\n",
       "      <th>44</th>\n",
       "      <td>Heuristic Park</td>\n",
       "      <td>1</td>\n",
       "    </tr>\n",
       "    <tr>\n",
       "      <th>42</th>\n",
       "      <td>Gray Matter Interactive</td>\n",
       "      <td>1</td>\n",
       "    </tr>\n",
       "    <tr>\n",
       "      <th>54</th>\n",
       "      <td>Kojima Productions</td>\n",
       "      <td>1</td>\n",
       "    </tr>\n",
       "  </tbody>\n",
       "</table>\n",
       "<p>109 rows × 2 columns</p>\n",
       "</div>"
      ],
      "text/plain": [
       "                      Developer  Name\n",
       "6        Blizzard Entertainment     8\n",
       "60                        Maxis     6\n",
       "70   Paradox Development Studio     5\n",
       "108                 id Software     4\n",
       "106            Westwood Studios     4\n",
       "..                          ...   ...\n",
       "48        Introversion Software     1\n",
       "47                      Infocom     1\n",
       "44               Heuristic Park     1\n",
       "42      Gray Matter Interactive     1\n",
       "54           Kojima Productions     1\n",
       "\n",
       "[109 rows x 2 columns]"
      ]
     },
     "execution_count": 29,
     "metadata": {},
     "output_type": "execute_result"
    }
   ],
   "source": [
    "agg_developer = df.groupby('Developer', as_index=False)['Name'].nunique() #unique agar tidak ada data yang sama #as_index=False agar index tidak berubah\n",
    "agg_developer.sort_values('Name', ascending=False) #ascending=False agar data dari terbesar ke terkecil\n",
    "\n",
    "#agg = aggregate"
   ]
  },
  {
   "cell_type": "code",
   "execution_count": 30,
   "metadata": {},
   "outputs": [
    {
     "data": {
      "image/png": "[encoded data removed]",
      "text/plain": [
       "<Figure size 1800x800 with 1 Axes>"
      ]
     },
     "metadata": {},
     "output_type": "display_data"
    }
   ],
   "source": [
    "top_developers = agg_developer.sort_values('Name', ascending=False).head(10)\n",
    "plt.rcParams['figure.figsize'] = (18, 8) #ukuran plot\n",
    "sns.barplot(x='Developer', y='Name', data=top_developers) #sns.barplot untuk membuat bar plot\n",
    "plt.show() #untuk menampilkan plot"
   ]
  },
  {
   "cell_type": "markdown",
   "metadata": {},
   "source": [
    "Which series has the most sales?"
   ]
  },
  {
   "cell_type": "code",
   "execution_count": 31,
   "metadata": {},
   "outputs": [
    {
     "data": {
      "text/html": [
       "<div>\n",
       "<style scoped>\n",
       "    .dataframe tbody tr th:only-of-type {\n",
       "        vertical-align: middle;\n",
       "    }\n",
       "\n",
       "    .dataframe tbody tr th {\n",
       "        vertical-align: top;\n",
       "    }\n",
       "\n",
       "    .dataframe thead th {\n",
       "        text-align: right;\n",
       "    }\n",
       "</style>\n",
       "<table border=\"1\" class=\"dataframe\">\n",
       "  <thead>\n",
       "    <tr style=\"text-align: right;\">\n",
       "      <th></th>\n",
       "      <th>Series</th>\n",
       "      <th>Sales</th>\n",
       "      <th>Name</th>\n",
       "    </tr>\n",
       "  </thead>\n",
       "  <tbody>\n",
       "    <tr>\n",
       "      <th>47</th>\n",
       "      <td>Minecraft</td>\n",
       "      <td>33.0</td>\n",
       "      <td>1</td>\n",
       "    </tr>\n",
       "    <tr>\n",
       "      <th>22</th>\n",
       "      <td>Diablo</td>\n",
       "      <td>26.0</td>\n",
       "      <td>3</td>\n",
       "    </tr>\n",
       "    <tr>\n",
       "      <th>75</th>\n",
       "      <td>The Sims</td>\n",
       "      <td>24.0</td>\n",
       "      <td>3</td>\n",
       "    </tr>\n",
       "    <tr>\n",
       "      <th>36</th>\n",
       "      <td>Half-Life</td>\n",
       "      <td>21.0</td>\n",
       "      <td>2</td>\n",
       "    </tr>\n",
       "    <tr>\n",
       "      <th>85</th>\n",
       "      <td>Warcraft</td>\n",
       "      <td>19.0</td>\n",
       "      <td>3</td>\n",
       "    </tr>\n",
       "    <tr>\n",
       "      <th>...</th>\n",
       "      <td>...</td>\n",
       "      <td>...</td>\n",
       "      <td>...</td>\n",
       "    </tr>\n",
       "    <tr>\n",
       "      <th>60</th>\n",
       "      <td>RoboCop</td>\n",
       "      <td>1.0</td>\n",
       "      <td>1</td>\n",
       "    </tr>\n",
       "    <tr>\n",
       "      <th>46</th>\n",
       "      <td>Microsoft Flight Simulator</td>\n",
       "      <td>1.0</td>\n",
       "      <td>1</td>\n",
       "    </tr>\n",
       "    <tr>\n",
       "      <th>58</th>\n",
       "      <td>Railroad Tycoon</td>\n",
       "      <td>1.0</td>\n",
       "      <td>1</td>\n",
       "    </tr>\n",
       "    <tr>\n",
       "      <th>56</th>\n",
       "      <td>Psychonauts</td>\n",
       "      <td>1.0</td>\n",
       "      <td>1</td>\n",
       "    </tr>\n",
       "    <tr>\n",
       "      <th>90</th>\n",
       "      <td>Zork</td>\n",
       "      <td>1.0</td>\n",
       "      <td>1</td>\n",
       "    </tr>\n",
       "  </tbody>\n",
       "</table>\n",
       "<p>91 rows × 3 columns</p>\n",
       "</div>"
      ],
      "text/plain": [
       "                        Series  Sales  Name\n",
       "47                   Minecraft   33.0     1\n",
       "22                      Diablo   26.0     3\n",
       "75                    The Sims   24.0     3\n",
       "36                   Half-Life   21.0     2\n",
       "85                    Warcraft   19.0     3\n",
       "..                         ...    ...   ...\n",
       "60                     RoboCop    1.0     1\n",
       "46  Microsoft Flight Simulator    1.0     1\n",
       "58             Railroad Tycoon    1.0     1\n",
       "56                 Psychonauts    1.0     1\n",
       "90                        Zork    1.0     1\n",
       "\n",
       "[91 rows x 3 columns]"
      ]
     },
     "execution_count": 31,
     "metadata": {},
     "output_type": "execute_result"
    }
   ],
   "source": [
    "agg_series = df.groupby('Series', as_index=False).agg({'Sales':'sum','Name':'nunique'}) #unique agar tidak ada data yang sama #as_index=False agar index tidak berubah\n",
    "agg_series.sort_values('Sales', ascending=False) #ascending=False agar data dari terbesar ke terkecil\n",
    "\n",
    "#agg = aggregate"
   ]
  },
  {
   "cell_type": "code",
   "execution_count": 32,
   "metadata": {},
   "outputs": [
    {
     "data": {
      "image/png": "[encoded data removed]",
      "text/plain": [
       "<Figure size 1800x800 with 1 Axes>"
      ]
     },
     "metadata": {},
     "output_type": "display_data"
    }
   ],
   "source": [
    "top_sales = agg_series.sort_values('Sales', ascending=False).head(10)\n",
    "plt.rcParams['figure.figsize'] = (18, 8) #ukuran plot\n",
    "sns.barplot(x='Series', y='Sales', data=top_sales) #sns.barplot untuk membuat bar plot\n",
    "plt.show() #untuk menampilkan plot"
   ]
  },
  {
   "cell_type": "markdown",
   "metadata": {},
   "source": [
    "Which series has the most games?"
   ]
  },
  {
   "cell_type": "code",
   "execution_count": 33,
   "metadata": {},
   "outputs": [
    {
     "data": {
      "image/png": "[encoded data removed]",
      "text/plain": [
       "<Figure size 1800x800 with 1 Axes>"
      ]
     },
     "metadata": {},
     "output_type": "display_data"
    }
   ],
   "source": [
    "top_seriess = agg_series.sort_values('Name', ascending=False).head(10)\n",
    "plt.rcParams['figure.figsize'] = (18, 8) #ukuran plot\n",
    "sns.barplot(x='Series', y='Name', data=top_seriess) #sns.barplot untuk membuat bar plot\n",
    "plt.show() #untuk menampilkan plot"
   ]
  }
 ],
 "metadata": {
  "kernelspec": {
   "display_name": "Python 3",
   "language": "python",
   "name": "python3"
  },
  "language_info": {
   "codemirror_mode": {
    "name": "ipython",
    "version": 3
   },
   "file_extension": ".py",
   "mimetype": "text/x-python",
   "name": "python",
   "nbconvert_exporter": "python",
   "pygments_lexer": "ipython3",
   "version": "3.10.5"
  }
 },
 "nbformat": 4,
 "nbformat_minor": 2
}
